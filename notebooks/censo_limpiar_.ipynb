{
 "cells": [
  {
   "cell_type": "code",
   "execution_count": 2,
   "id": "a2d247a3-f4ea-4875-b687-ceeb8cc6b50c",
   "metadata": {},
   "outputs": [
    {
     "name": "stdout",
     "output_type": "stream",
     "text": [
      "0\n",
      "0\n"
     ]
    }
   ],
   "source": [
    "import os, time\n",
    "import numpy as np\n",
    "import pandas as pd\n",
    "import matplotlib as mpl\n",
    "import seaborn as sbn\n",
    "\n",
    "censo17_first_row = pd.read_csv(os.path.join('..', 'Data', 'dirty data', 'censo', '2017', 'csv-personas-censo-2017',\n",
    "                                             'Microdato_Censo2017-Personas.csv'),\n",
    "                                encoding='utf-8', nrows=1, sep=';')\n",
    "\n",
    "all_columns = ('REGION', 'PROVINCIA', 'COMUNA', 'DC', 'AREA', 'ZC_LOC', 'ID_ZONA_LOC', 'NVIV',\n",
    "               'NHOGAR', 'PERSONAN', 'P07', 'P08', 'P09', 'P10', 'P10COMUNA', 'P10PAIS', 'P11',\n",
    "               'P11COMUNA', 'P11PAIS', 'P12', 'P12COMUNA', 'P12PAIS', 'P12A_LLEGADA', 'P12A_TRAMO',\n",
    "               'P13', 'P14', 'P15', 'P15A', 'P16', 'P16A', 'P16A_OTRO', 'P17', 'P18', 'P19', 'P20',\n",
    "               'P21M', 'P21A', 'P10PAIS_GRUPO', 'P11PAIS_GRUPO', 'P12PAIS_GRUPO', 'ESCOLARIDAD',\n",
    "               'P16A_GRUPO', 'REGION_15R', 'PROVINCIA_15R', 'COMUNA_15R', 'P10COMUNA_15R',\n",
    "               'P11COMUNA_15R', 'P12COMUNA_15R')\n",
    "\n",
    "usecols = ('REGION', 'PROVINCIA', 'COMUNA', 'AREA', 'ZC_LOC', 'ID_ZONA_LOC', 'PERSONAN', 'P08',\n",
    "           'P09', 'P10COMUNA', 'P10PAIS', 'P11COMUNA', 'P11PAIS', 'P13', 'P14', 'P15', 'P15A', 'P19',\n",
    "           'P20','ESCOLARIDAD')\n",
    "\n",
    "# Limpiar por etiquetas\n",
    "\n",
    "column_names = {\n",
    "    'PERSONAN': 'número de persona', 'P08': 'sexo', 'P09': 'edad',\n",
    "    'P10COMUNA': 'residencia habitual, comuna', 'P10PAIS': 'residencia habitual, pais',\n",
    "    'P11COMUNA': 'residencia hace 5 años, comuna', 'P11PAIS': 'residencia hace 5 años, pais',\n",
    "    'P13': 'asiste actualmente a educacion formal', 'P14': 'curso o año mas alto aprobado',\n",
    "    'P15': 'nivel de curso mas alto aprobado', 'P15A': 'completo el curso',\n",
    "    'P19': 'total hijos nacidos vivos', 'P20': 'total hijos actualmente vivos',\n",
    "    'ESCOLARIDAD': 'anos en el curso'}\n",
    "\n",
    "censo_raw = pd.read_csv(os.path.join('..', 'Data', 'dirty data', 'censo', '2017', 'csv-personas-censo-2017',\n",
    "                                     'Microdato_Censo2017-Personas.csv'),\n",
    "                                encoding='utf-8', sep=';', usecols=usecols)\n",
    "\n",
    "print(censo_raw.isna().any().sum())\n",
    "print(censo_raw.isna().any(axis=1).sum())\n",
    "# No hay NaN en todo el dataset\n",
    "\n",
    "censo_raw.to_csv(os.path.join('..', 'Data', 'clean data', 'censo', '2017', 'microdato2017.csv'), index=False)"
   ]
  },
  {
   "cell_type": "code",
   "execution_count": 3,
   "id": "43bc4a89-ffc6-4841-8690-376009d731b2",
   "metadata": {},
   "outputs": [],
   "source": [
    "censo_2024_educacion = pd.read_excel(os.path.join('..', 'Data', 'dirty data', 'censo', '2024', 'P7_Educacion.xlsx'), sheet_name=6, skiprows=3,\n",
    "                                    usecols=['Código región', 'Código provincia', 'Código comuna', 'Grupos de edad',\n",
    "                                             'Años de escolaridad promedio']).iloc[:-2]"
   ]
  },
  {
   "cell_type": "code",
   "execution_count": 4,
   "id": "b6f1ec92-b55d-442f-ba03-04074e7f92b2",
   "metadata": {},
   "outputs": [
    {
     "name": "stdout",
     "output_type": "stream",
     "text": [
      "0\n",
      "0\n",
      "['Total País' '0 a 4' '5 a 9' '10 a 14' '15 a 19' '20 a 24' '25 a 29'\n",
      " '30 a 34' '35 a 39' '40 a 44' '45 a 49' '50 a 54' '55 a 59' '60 a 64'\n",
      " '65 a 69' '70 a 74' '75 a 79' '80 a 84' '85 o más' 'Total Comuna']\n"
     ]
    }
   ],
   "source": [
    "print(censo_2024_educacion.isna().any().sum())\n",
    "print(censo_2024_educacion.isna().any(axis=1).sum())\n",
    "# No hay NaN en todo el dataset\n",
    "\n",
    "print(censo_2024_educacion['Grupos de edad'].unique())\n",
    "censo_2024_educacion = censo_2024_educacion[censo_2024_educacion['Grupos de edad'] != 'Total Comuna'][1:]\n",
    "\n",
    "censo_2024_educacion['edad_min'] = censo_2024_educacion['Grupos de edad'].str[:2].astype(int)\n",
    "censo_2024_educacion['edad_max'] = np.where(\n",
    "    censo_2024_educacion['Grupos de edad'].str.contains('más', case=False),\n",
    "    np.nan,\n",
    "    censo_2024_educacion['Grupos de edad'].str.extract(r'\\d+\\s*a\\s*(\\d+)')[0].astype(float)\n",
    ")\n",
    "censo_2024_educacion = censo_2024_educacion.drop('Grupos de edad', axis=1)"
   ]
  },
  {
   "cell_type": "code",
   "execution_count": 5,
   "id": "48ac5e18-75c2-4d7b-89cf-6306ebf59712",
   "metadata": {},
   "outputs": [],
   "source": [
    "censo_2024_educacion.to_csv(os.path.join('..', 'Data', 'clean data', 'censo', '2024', 'censo_2024_educacion.csv'), index=False)"
   ]
  },
  {
   "cell_type": "code",
   "execution_count": 6,
   "id": "9789aada-6abe-4c34-baee-d60878a26fe0",
   "metadata": {},
   "outputs": [],
   "source": [
    "censo_2024_poblacion = pd.read_excel(os.path.join('..', 'Data', 'dirty data', 'censo', '2024',\n",
    "                                                  'D1_Poblacion-censada-por-sexo-y-edad-en-grupos-quinquenales.xlsx'),\n",
    "                                     sheet_name=4, skiprows=3,\n",
    "                                     usecols=['Código región', 'Código provincia', 'Código comuna', 'Grupos de edad',\n",
    "                                             'Población censada', 'Hombres', 'Mujeres']).iloc[:-3]"
   ]
  },
  {
   "cell_type": "code",
   "execution_count": 7,
   "id": "a203d55a-9ed4-4378-a18f-6b58d1d74afc",
   "metadata": {},
   "outputs": [
    {
     "name": "stdout",
     "output_type": "stream",
     "text": [
      "1\n",
      "347\n",
      "['Total País' '0 a 4' '5 a 9' '10 a 14' '15 a 19' '20 a 24' '25 a 29'\n",
      " '30 a 34' '35 a 39' '40 a 44' '45 a 49' '50 a 54' '55 a 59' '60 a 64'\n",
      " '65 a 69' '70 a 74' '75 a 79' '80 a 84' '85 o más' 'Total Comuna']\n"
     ]
    }
   ],
   "source": [
    "print(censo_2024_educacion.isna().any().sum())\n",
    "print(censo_2024_educacion.isna().any(axis=1).sum())\n",
    "# No hay NaN en todo el dataset\n",
    "\n",
    "print(censo_2024_poblacion['Grupos de edad'].unique())\n",
    "censo_2024_poblacion = censo_2024_poblacion[censo_2024_poblacion['Grupos de edad'] != 'Total Comuna'][1:]\n",
    "\n",
    "censo_2024_poblacion['edad_min'] = censo_2024_poblacion['Grupos de edad'].str[:2].astype(int)\n",
    "censo_2024_poblacion['edad_max'] = np.where(\n",
    "    censo_2024_poblacion['Grupos de edad'].str.contains('más', case=False),\n",
    "    np.nan,\n",
    "    censo_2024_poblacion['Grupos de edad'].str.extract(r'\\d+\\s*a\\s*(\\d+)')[0].astype(float)\n",
    ")\n",
    "censo_2024_poblacion = censo_2024_poblacion.drop('Grupos de edad', axis=1)"
   ]
  },
  {
   "cell_type": "code",
   "execution_count": 8,
   "id": "a9b44eac-33af-4384-90bc-4c718bec99e3",
   "metadata": {},
   "outputs": [],
   "source": [
    "censo_2024_poblacion.to_csv(os.path.join('..', 'Data', 'clean data', 'censo', '2024', 'censo_2024_poblacion.csv'), index=False)"
   ]
  },
  {
   "cell_type": "code",
   "execution_count": 9,
   "id": "e875fcce-8f8d-43c7-a4f7-4f6011d618df",
   "metadata": {},
   "outputs": [],
   "source": [
    "censo_2024_fecundidad = pd.read_excel(os.path.join('..', 'Data', 'dirty data', 'censo', '2024',\n",
    "                                                  'D6_Fecundidad.xlsx'),\n",
    "                                     sheet_name=4, skiprows=3,\n",
    "                                     usecols=['Código región', 'Código provincia', 'Código comuna',\n",
    "                                              'Total de mujeres de 15 años o más', 'Mujeres con hijos o hijas',\n",
    "                                              'Mujeres sin hijos o hijas', 'Mujeres con fecundidad ignorada']).iloc[:-2]"
   ]
  },
  {
   "cell_type": "code",
   "execution_count": 10,
   "id": "6ca6c3ce-20a0-4d2f-8a91-fb475831275a",
   "metadata": {},
   "outputs": [],
   "source": [
    "censo_2024_fecundidad.to_csv(os.path.join('..', 'Data', 'clean data', 'censo', '2024', 'censo_2024_fecundidad.csv'), index=False)"
   ]
  }
 ],
 "metadata": {
  "kernelspec": {
   "display_name": "Python 3 (ipykernel)",
   "language": "python",
   "name": "python3"
  },
  "language_info": {
   "codemirror_mode": {
    "name": "ipython",
    "version": 3
   },
   "file_extension": ".py",
   "mimetype": "text/x-python",
   "name": "python",
   "nbconvert_exporter": "python",
   "pygments_lexer": "ipython3",
   "version": "3.12.0"
  }
 },
 "nbformat": 4,
 "nbformat_minor": 5
}
